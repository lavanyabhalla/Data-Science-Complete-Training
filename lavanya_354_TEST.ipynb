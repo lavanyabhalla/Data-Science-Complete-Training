{
 "cells": [
  {
   "cell_type": "code",
   "execution_count": 2,
   "id": "1481d280-c31c-4b24-a71c-b315339db31a",
   "metadata": {},
   "outputs": [],
   "source": [
    "# Question 1\n",
    "# list:mutable,[],Eg:[321,123]\n",
    "# tuple:immutable,(),Eg:(1,2,3)"
   ]
  },
  {
   "cell_type": "code",
   "execution_count": null,
   "id": "00555483-11ec-4608-ab16-8eb199017fa8",
   "metadata": {},
   "outputs": [],
   "source": [
    "# Question 2\n",
    "# input() is used to take the inpuut from the users.\n",
    "# The data type the input() returns is \n",
    "# age=int input('Enter your legal age') "
   ]
  },
  {
   "cell_type": "code",
   "execution_count": null,
   "id": "d6c226f9-24c1-4e41-9676-31e1ca89711f",
   "metadata": {},
   "outputs": [],
   "source": [
    "# Question 3 \n",
    "dictionary contain rows and columns \n",
    "# SYNTAX \n",
    "# KEY VALUE PAIRS\n",
    "use()\n",
    "data=(name:'lavanya','roll_no':354,'course':'bca')\n"
   ]
  },
  {
   "cell_type": "code",
   "execution_count": 6,
   "id": "bf240c41-5713-4af2-93c4-71888eb05fe5",
   "metadata": {},
   "outputs": [
    {
     "name": "stdout",
     "output_type": "stream",
     "text": [
      "1\n",
      "2\n",
      "3\n",
      "4\n",
      "5\n"
     ]
    }
   ],
   "source": [
    "# question 4 \n",
    "\n",
    "#FOR LOOP\n",
    "\n",
    "for i in range(1,6):\n",
    "    print(i)"
   ]
  },
  {
   "cell_type": "code",
   "execution_count": null,
   "id": "0f05f380-85c4-4e9a-ae2a-b0975f5c005f",
   "metadata": {},
   "outputs": [],
   "source": [
    "# Question 5\n",
    "# Exception handling in python is used to handle the error. \n",
    "# exeption handlling has 3 types\n",
    "# try:pointing out the error that can happen and followed except()\n",
    "# except:it will handle the error\n",
    "#finally\n",
    "\n"
   ]
  },
  {
   "cell_type": "code",
   "execution_count": null,
   "id": "dc702dff-5396-496e-93f2-f7ba9f383614",
   "metadata": {},
   "outputs": [],
   "source": [
    "# Question 6\n",
    "ABSENT"
   ]
  },
  {
   "cell_type": "code",
   "execution_count": 7,
   "id": "b2abb0ee-3301-433a-8b3b-bf05757c2a7a",
   "metadata": {},
   "outputs": [],
   "source": [
    "# Question 7\n",
    "# Object oriented programmin it has 4 OOP's pillar\n",
    "#Encapsulation it will hide the sensitive data\n",
    "#Polymorphism one message multiple times\n",
    "#Abstraction hide internal data\n",
    "#Inheritance are those classes that can inherit properties from another classes\n",
    "\n",
    "class lav:\n",
    "    def say_hello(self):\n",
    "        name=input('name:')\n",
    "        print(f'{name}heyy friends')\n",
    "    def say_byee(self):\n",
    "        name=input('name:')\n",
    "        print(f'{name}byeeee friends')\n",
    "    "
   ]
  },
  {
   "cell_type": "code",
   "execution_count": 8,
   "id": "5bf5bd6e-95a3-4fc5-93ef-20a847e6b689",
   "metadata": {},
   "outputs": [],
   "source": [
    "class lav:\n",
    "    def say_hello(self):\n",
    "        name=input('name:')\n",
    "        print(f'{name}heyy friends')\n",
    "    def say_byee(self):\n",
    "        name=input('name:')\n",
    "        print(f'{name}byeeee friends')"
   ]
  },
  {
   "cell_type": "code",
   "execution_count": 15,
   "id": "903e3a37-c05c-4961-a81a-62c00db1145c",
   "metadata": {},
   "outputs": [],
   "source": [
    "hii=lav()"
   ]
  },
  {
   "cell_type": "code",
   "execution_count": 18,
   "id": "5799129b-7c60-45a9-ac38-f57c2d70216d",
   "metadata": {},
   "outputs": [
    {
     "name": "stdin",
     "output_type": "stream",
     "text": [
      "name: lavanya\n"
     ]
    },
    {
     "name": "stdout",
     "output_type": "stream",
     "text": [
      "lavanyaheyy friends\n"
     ]
    }
   ],
   "source": [
    "hii.say_hello()"
   ]
  },
  {
   "cell_type": "code",
   "execution_count": 19,
   "id": "f4113fba-e49c-4023-87eb-cec2ffaa6477",
   "metadata": {},
   "outputs": [
    {
     "name": "stdin",
     "output_type": "stream",
     "text": [
      "name: ayush\n"
     ]
    },
    {
     "name": "stdout",
     "output_type": "stream",
     "text": [
      "ayushbyeeee friends\n"
     ]
    }
   ],
   "source": [
    "hii.say_byee()"
   ]
  },
  {
   "cell_type": "code",
   "execution_count": null,
   "id": "a0215c89-53ce-4ee9-ae39-7e62395f935f",
   "metadata": {},
   "outputs": [],
   "source": [
    "#Question 8\n"
   ]
  },
  {
   "cell_type": "code",
   "execution_count": 21,
   "id": "0b00a4cc-9201-47d8-b5f7-1b7007f28bdd",
   "metadata": {},
   "outputs": [],
   "source": [
    "# Question 9\n",
    "def calculate_area():\n",
    "    radius=float (input('enter the radius'))\n",
    "    area = 3.14*radius\n",
    "    print(f'area:{area}' )"
   ]
  },
  {
   "cell_type": "code",
   "execution_count": 22,
   "id": "60f5a6ff-d0d9-408d-aeb9-3e73b1cc67b8",
   "metadata": {},
   "outputs": [
    {
     "name": "stdin",
     "output_type": "stream",
     "text": [
      "enter the radius 222\n"
     ]
    },
    {
     "name": "stdout",
     "output_type": "stream",
     "text": [
      "area:697.08\n"
     ]
    }
   ],
   "source": [
    "calculate_area()"
   ]
  },
  {
   "cell_type": "code",
   "execution_count": null,
   "id": "f42a35f4-0e75-4d44-8cb0-b78566af6230",
   "metadata": {},
   "outputs": [],
   "source": [
    "# Question 10\n",
    "name = str(input('enter your name'))\n",
    "age  = int(input('enter your age'))\n",
    "print(f'hello{name}:' )"
   ]
  }
 ],
 "metadata": {
  "kernelspec": {
   "display_name": "Python [conda env:base] *",
   "language": "python",
   "name": "conda-base-py"
  },
  "language_info": {
   "codemirror_mode": {
    "name": "ipython",
    "version": 3
   },
   "file_extension": ".py",
   "mimetype": "text/x-python",
   "name": "python",
   "nbconvert_exporter": "python",
   "pygments_lexer": "ipython3",
   "version": "3.13.5"
  }
 },
 "nbformat": 4,
 "nbformat_minor": 5
}
